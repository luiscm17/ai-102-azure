{
 "cells": [
  {
   "cell_type": "markdown",
   "id": "ee2095e5",
   "metadata": {},
   "source": [
    "1. Instalar dependencias\n"
   ]
  },
  {
   "cell_type": "code",
   "execution_count": null,
   "id": "bb9634c5",
   "metadata": {},
   "outputs": [],
   "source": [
    "!uv pip install azure-identity azure-mgmt-cognitiveservices azure-ai-projects python-dotenv"
   ]
  },
  {
   "cell_type": "code",
   "execution_count": 11,
   "id": "9a0b449f",
   "metadata": {},
   "outputs": [
    {
     "name": "stdout",
     "output_type": "stream",
     "text": [
      "Provisioned resource group rg-gtp41-sdk\n",
      "Provisioned resource group rg-gtp41-sdk in the eastus region\n"
     ]
    }
   ],
   "source": [
    "# Import the needed credential and management objects from the libraries.\n",
    "import os\n",
    "from dotenv import load_dotenv\n",
    "from azure.identity import DefaultAzureCredential\n",
    "from azure.mgmt.resource import ResourceManagementClient\n",
    "\n",
    "load_dotenv()\n",
    "# Acquire a credential object using DevaultAzureCredential.\n",
    "credential = DefaultAzureCredential()\n",
    "# Retrieve subscription ID from environment variable.\n",
    "subscription_id = os.environ[\"AZURE_SUBSCRIPTION_ID\"]\n",
    "\n",
    "# Retrieve resource group name and location from environment variables\n",
    "RESOURCE_GROUP_NAME = os.environ[\"AZURE_RESOURCE_GROUP\"]\n",
    "LOCATION = os.environ[\"LOCATION\"]\n",
    "\n",
    "# Obtain the management object for resources.\n",
    "resource_client = ResourceManagementClient(credential, subscription_id)\n",
    "\n",
    "# Provision the resource group.\n",
    "rg_result = resource_client.resource_groups.create_or_update(RESOURCE_GROUP_NAME,\n",
    "    { \"location\": LOCATION })\n",
    "\n",
    "print(f\"Provisioned resource group {rg_result.name}\")\n",
    "\n",
    "# Within the ResourceManagementClient is an object named resource_groups,\n",
    "# which is of class ResourceGroupsOperations, which contains methods like\n",
    "# create_or_update.\n",
    "#\n",
    "# The second parameter to create_or_update here is technically a ResourceGroup\n",
    "# object. You can create the object directly using ResourceGroup(location=\n",
    "# LOCATION) or you can express the object as inline JSON as shown here. For\n",
    "# details, see Inline JSON pattern for object arguments at\n",
    "# https://learn.microsoft.com/azure/developer/python/sdk\n",
    "# /azure-sdk-library-usage-patterns#inline-json-pattern-for-object-arguments\n",
    "\n",
    "print(\n",
    "    f\"Provisioned resource group {rg_result.name} in the {rg_result.location} region\"\n",
    ")\n",
    "\n",
    "# The return value is another ResourceGroup object with all the details of the\n",
    "# new group. In this case the call is synchronous: the resource group has been\n",
    "# provisioned by the time the call returns."
   ]
  },
  {
   "cell_type": "markdown",
   "id": "784e2341",
   "metadata": {},
   "source": [
    "## Retrieve the list of resource groups"
   ]
  },
  {
   "cell_type": "code",
   "execution_count": 12,
   "id": "02c53483",
   "metadata": {},
   "outputs": [
    {
     "name": "stdout",
     "output_type": "stream",
     "text": [
      "Resource Group                          Location\n",
      "--------------------------------------------------------------------------------\n",
      "rg-gpt41-foundry                        eastus2\n",
      "rg-gpt41-sdk                            eastus\n",
      "rg-gpt41-foundry                        eastus2\n",
      "rg-gpt41-sdk                            eastus\n"
     ]
    }
   ],
   "source": [
    "# Retrieve the list of resource groups\n",
    "group_list = resource_client.resource_groups.list()\n",
    "\n",
    "# Show the groups in formatted output\n",
    "column_width = 40\n",
    "\n",
    "print(\"Resource Group\".ljust(column_width) + \"Location\")\n",
    "print(\"-\" * (column_width * 2))\n",
    "\n",
    "for group in list(group_list):\n",
    "    print(f\"{group.name:<{column_width}}{group.location}\")"
   ]
  },
  {
   "cell_type": "markdown",
   "id": "867136e2",
   "metadata": {},
   "source": [
    "## List resources within a specific resource group"
   ]
  },
  {
   "cell_type": "code",
   "execution_count": 1,
   "id": "07571ca9",
   "metadata": {},
   "outputs": [
    {
     "name": "stdout",
     "output_type": "stream",
     "text": [
      "Resource                            Type                                Create date                         Change date                         \n",
      "------------------------------------------------------------------------------------------------------------------------------------------------\n",
      "openai-lab-sdk                      Microsoft.CognitiveServices/accounts2025-08-26 18:55:01.639113+00:00    2025-08-26 19:05:21.729813+00:00    \n"
     ]
    }
   ],
   "source": [
    "# Import the needed credential and management objects from the libraries.\n",
    "from azure.identity import DefaultAzureCredential\n",
    "from azure.mgmt.resource import ResourceManagementClient\n",
    "from dotenv import load_dotenv\n",
    "import os\n",
    "\n",
    "load_dotenv()\n",
    "# Acquire a credential object.\n",
    "credential = DefaultAzureCredential()\n",
    "\n",
    "# Retrieve subscription ID from environment variable.\n",
    "subscription_id = os.environ[\"AZURE_SUBSCRIPTION_ID\"]\n",
    "\n",
    "# Retrieve the resource group to use, defaulting to \"myResourceGroup\".\n",
    "resource_group = os.getenv(\"AZURE_RESOURCE_GROUP\", \"rg-gtp41-sdk\")\n",
    "\n",
    "# Obtain the management object for resources.\n",
    "resource_client = ResourceManagementClient(credential, subscription_id)\n",
    "\n",
    "# Retrieve the list of resources in \"myResourceGroup\" (change to any name desired).\n",
    "# The expand argument includes additional properties in the output.\n",
    "resource_list = resource_client.resources.list_by_resource_group(\n",
    "    resource_group, expand = \"createdTime,changedTime\")\n",
    "\n",
    "# Show the groups in formatted output\n",
    "column_width = 36\n",
    "\n",
    "print(\"Resource\".ljust(column_width) + \"Type\".ljust(column_width)\n",
    "    + \"Create date\".ljust(column_width) + \"Change date\".ljust(column_width))\n",
    "print(\"-\" * (column_width * 4))\n",
    "\n",
    "for resource in list(resource_list):\n",
    "    print(f\"{resource.name:<{column_width}}{resource.type:<{column_width}}\"\n",
    "       f\"{str(resource.created_time):<{column_width}}{str(resource.changed_time):<{column_width}}\")"
   ]
  },
  {
   "cell_type": "markdown",
   "id": "8e4b4438",
   "metadata": {},
   "source": [
    "## Crear el recurso Foundry y un proyecto"
   ]
  },
  {
   "cell_type": "code",
   "execution_count": 2,
   "id": "dbfdac46",
   "metadata": {},
   "outputs": [],
   "source": [
    "import os\n",
    "from dotenv import load_dotenv\n",
    "from azure.identity import DefaultAzureCredential\n",
    "from azure.mgmt.cognitiveservices import CognitiveServicesManagementClient\n",
    "\n",
    "load_dotenv()\n",
    "subscription_id = os.environ[\"AZURE_SUBSCRIPTION_ID\"]\n",
    "resource_group = os.environ[\"AZURE_RESOURCE_GROUP\"]\n",
    "foundry_resource_name = os.environ[\"AZURE_FOUNDRY_RESOURCE\"]\n",
    "foundry_project_name = os.environ[\"AZURE_FOUNDRY_PROJECT\"]\n",
    "location = os.environ[\"LOCATION\"]\n",
    "\n",
    "client = CognitiveServicesManagementClient(\n",
    "    credential=DefaultAzureCredential(), \n",
    "    subscription_id=subscription_id,\n",
    "    api_version=\"2025-04-01-preview\"\n",
    ")\n",
    "\n",
    "credential=DefaultAzureCredential()"
   ]
  },
  {
   "cell_type": "code",
   "execution_count": 3,
   "id": "6a171233",
   "metadata": {},
   "outputs": [
    {
     "name": "stdout",
     "output_type": "stream",
     "text": [
      "subscription_id: 562be4bd-42dc-4fb6-8e07-e3fd5400b9f7\n",
      "resource_group: rg-gpt41-sdk\n",
      "foundry_resource_name: opengpt41-foundry-rs\n",
      "foundry_project_name: opengpt41-foundry-pj\n",
      "El grupo de recursos existe y es accesible.\n"
     ]
    }
   ],
   "source": [
    "# Depuración: imprime los valores usados y verifica acceso a la suscripción\n",
    "print('subscription_id:', subscription_id)\n",
    "print('resource_group:', resource_group)\n",
    "print('foundry_resource_name:', foundry_resource_name)\n",
    "print('foundry_project_name:', foundry_project_name)\n",
    "\n",
    "# Verifica que el grupo de recursos existe usando Azure CLI desde Python\n",
    "import subprocess\n",
    "result = subprocess.run([\n",
    "    'az', 'group', 'show', '--name', resource_group, '--subscription', subscription_id, '--output', 'json'\n",
    "], capture_output=True, text=True)\n",
    "if result.returncode == 0:\n",
    "    print('El grupo de recursos existe y es accesible.')\n",
    "else:\n",
    "    print('No se encontró el grupo de recursos o no tienes acceso.')\n",
    "    print(result.stderr)"
   ]
  },
  {
   "cell_type": "markdown",
   "id": "8cf53d1d",
   "metadata": {},
   "source": [
    "## Create resource Azure AI Foundry"
   ]
  },
  {
   "cell_type": "code",
   "execution_count": 6,
   "id": "d029cdee",
   "metadata": {},
   "outputs": [],
   "source": [
    "# Create resource\n",
    "resource = client.accounts.begin_create(\n",
    "    resource_group_name=resource_group,\n",
    "    account_name=foundry_resource_name,\n",
    "    account={\n",
    "        \"location\": location,\n",
    "        \"kind\": \"AIServices\",\n",
    "        \"sku\": {\"name\": \"S0\",},\n",
    "        \"identity\": {\"type\": \"SystemAssigned\"},\n",
    "        \"properties\": {\n",
    "            \"allowProjectManagement\": True,\n",
    "            \"customSubDomainName\": foundry_resource_name\n",
    "        }\n",
    "    }\n",
    ")\n",
    "\n",
    "# Wait for the resource creation to complete\n",
    "resource_result = resource.result()"
   ]
  },
  {
   "cell_type": "code",
   "execution_count": null,
   "id": "49c9be30",
   "metadata": {},
   "outputs": [],
   "source": [
    "# optinal\n",
    "# Create default project\n",
    "project = client.projects.begin_create(\n",
    "    resource_group_name=resource_group,\n",
    "    account_name=foundry_resource_name,\n",
    "    project_name=foundry_project_name,\n",
    "    project={\n",
    "        \"location\": location,\n",
    "        \"identity\": {\n",
    "            \"type\": \"SystemAssigned\"\n",
    "        },\n",
    "        \"properties\": {}\n",
    "    }\n",
    ")"
   ]
  },
  {
   "cell_type": "markdown",
   "id": "6c3b11fd",
   "metadata": {},
   "source": [
    "## El deployment de modelos se realiza con el SDK Python. "
   ]
  },
  {
   "cell_type": "code",
   "execution_count": 7,
   "id": "8fb38bb4",
   "metadata": {},
   "outputs": [
    {
     "ename": "ImportError",
     "evalue": "cannot import name 'FoundryClient' from 'azure.ai.projects' (/home/luis-cm/Documents/Github/ai-102-azure/.venv/lib/python3.12/site-packages/azure/ai/projects/__init__.py)",
     "output_type": "error",
     "traceback": [
      "\u001b[31m---------------------------------------------------------------------------\u001b[39m",
      "\u001b[31mImportError\u001b[39m                               Traceback (most recent call last)",
      "\u001b[36mCell\u001b[39m\u001b[36m \u001b[39m\u001b[32mIn[7]\u001b[39m\u001b[32m, line 1\u001b[39m\n\u001b[32m----> \u001b[39m\u001b[32m1\u001b[39m \u001b[38;5;28;01mfrom\u001b[39;00m\u001b[38;5;250m \u001b[39m\u001b[34;01mazure\u001b[39;00m\u001b[34;01m.\u001b[39;00m\u001b[34;01mai\u001b[39;00m\u001b[34;01m.\u001b[39;00m\u001b[34;01mprojects\u001b[39;00m\u001b[38;5;250m \u001b[39m\u001b[38;5;28;01mimport\u001b[39;00m FoundryClient\n\u001b[32m      3\u001b[39m client = FoundryClient(...)\n\u001b[32m      4\u001b[39m deployment = client.deploy_model(\n\u001b[32m      5\u001b[39m     project_name=\u001b[33m\"\u001b[39m\u001b[33mopengpt41-foundry-sdk\u001b[39m\u001b[33m\"\u001b[39m,\n\u001b[32m      6\u001b[39m     model_name=\u001b[33m\"\u001b[39m\u001b[33mgpt-4.1\u001b[39m\u001b[33m\"\u001b[39m,\n\u001b[32m   (...)\u001b[39m\u001b[32m     10\u001b[39m     capacity=\u001b[32m1\u001b[39m  \u001b[38;5;66;03m# si aplica\u001b[39;00m\n\u001b[32m     11\u001b[39m )\n",
      "\u001b[31mImportError\u001b[39m: cannot import name 'FoundryClient' from 'azure.ai.projects' (/home/luis-cm/Documents/Github/ai-102-azure/.venv/lib/python3.12/site-packages/azure/ai/projects/__init__.py)"
     ]
    }
   ],
   "source": [
    "from azure.ai.projects import FoundryClient\n",
    "\n",
    "client = FoundryClient(...)\n",
    "deployment = client.deploy_model(\n",
    "    project_name=\"opengpt41-foundry-sdk\",\n",
    "    model_name=\"gpt-4.1\",\n",
    "    model_version=\"2025-04-14\",\n",
    "    deployment_name=\"gpt41-deploysdk\",\n",
    "    sku_name=\"GlobalStandard\",  # si aplica\n",
    "    capacity=1  # si aplica\n",
    ")\n",
    "print(\"Deployment creado:\", deployment)"
   ]
  },
  {
   "cell_type": "markdown",
   "id": "de34ed3c",
   "metadata": {},
   "source": [
    "## El deployment de modelos se realiza con el CLI Azure. "
   ]
  },
  {
   "cell_type": "code",
   "execution_count": null,
   "id": "0a1af6ce",
   "metadata": {
    "vscode": {
     "languageId": "shellscript"
    }
   },
   "outputs": [],
   "source": [
    "az cognitiveservices account deployment create \\\n",
    "    -g rg-gpt41-sdk \\\n",
    "    -n opengpt41-foundry-rs \\\n",
    "    --deployment-name gpt41-deployment \\\n",
    "    --model-name gpt-4.1 \\\n",
    "    --model-version \"2025-04-14\" \\\n",
    "    --model-format OpenAI \\\n",
    "    --sku-capacity 1 \\\n",
    "    --sku-name GlobalStandard"
   ]
  },
  {
   "cell_type": "markdown",
   "id": "7074632b",
   "metadata": {},
   "source": [
    "## Obtener endpoint"
   ]
  },
  {
   "cell_type": "code",
   "execution_count": 9,
   "id": "55855160",
   "metadata": {},
   "outputs": [],
   "source": [
    "account_name = \"opengpt41-foundry-rs\"\n",
    "account = client.accounts.get(resource_group, account_name)\n",
    "endpoint = account.properties.endpoints[\"Azure AI Model Inference API\"]"
   ]
  },
  {
   "cell_type": "code",
   "execution_count": 10,
   "id": "7ef21f67",
   "metadata": {},
   "outputs": [
    {
     "name": "stdout",
     "output_type": "stream",
     "text": [
      "https://opengpt41-foundry-rs.services.ai.azure.com/\n"
     ]
    }
   ],
   "source": [
    "print(endpoint)"
   ]
  },
  {
   "cell_type": "code",
   "execution_count": null,
   "id": "7c64e38d",
   "metadata": {},
   "outputs": [],
   "source": [
    "# Obtener el endpoint\n",
    "account = client.accounts.get(resource_group, account_name)\n",
    "endpoint = account.properties.endpoints[\"Azure AI Model Inference API\"]\n",
    "\n",
    "# Construir la URL completa\n",
    "full_endpoint = f\"{endpoint}openai/deployments/{deployment_name}/chat/completions?api-version={api_version}\"\n",
    "\n",
    "print(f\"Endpoint completo: {full_endpoint}\")\n",
    "\n",
    "# Opcional: Obtener la clave\n",
    "keys = client.accounts.list_keys(resource_group, account_name)\n",
    "print(f\"Clave de API: {keys.key1 or keys.key2}\")"
   ]
  }
 ],
 "metadata": {
  "kernelspec": {
   "display_name": ".venv",
   "language": "python",
   "name": "python3"
  },
  "language_info": {
   "codemirror_mode": {
    "name": "ipython",
    "version": 3
   },
   "file_extension": ".py",
   "mimetype": "text/x-python",
   "name": "python",
   "nbconvert_exporter": "python",
   "pygments_lexer": "ipython3",
   "version": "3.12.3"
  }
 },
 "nbformat": 4,
 "nbformat_minor": 5
}
