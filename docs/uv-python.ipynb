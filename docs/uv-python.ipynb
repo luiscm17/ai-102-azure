{
 "cells": [
  {
   "cell_type": "markdown",
   "id": "d8503d85",
   "metadata": {},
   "source": [
    "# Manual Básico de UV: Gestión de Entornos Python\n",
    "\n",
    "## Tabla de Contenidos\n",
    "\n",
    "- [¿Qué es UV?](#qué-es-uv)\n",
    "- [Instalación](#instalación)\n",
    "- [Comandos Básicos](#comandos-básicos)\n",
    "- [Gestión de Entornos Virtuales](#gestión-de-entornos-virtuales)\n",
    "- [Gestión de Dependencias](#gestión-de-dependencias)\n",
    "- [Integración con Pip](#integración-con-pip)\n",
    "- [Configuración y Personalización](#configuración-y-personalización)\n",
    "- [Workflows Comunes](#workflows-comunes)\n",
    "- [Migración desde Otras Herramientas](#migración-desde-otras-herramientas)\n",
    "- [Solución de Problemas](#solución-de-problemas)\n",
    "\n",
    "## ¿Qué es UV?\n",
    "\n",
    "**UV** es un administrador de paquetes y entornos Python extremadamente rápido, escrito en Rust. Es desarrollado por Astral (creadores de Ruff) y ofrece:\n",
    "\n",
    "- ⚡ **Velocidad superior**: 10-100x más rápido que pip\n",
    "- 🐍 **Compatibilidad completa**: Reemplazo directo de pip/pip-tools/venv\n",
    "- 🔧 **Una sola herramienta**: Gestiona entornos, dependencias y más\n",
    "- 🌐 **Multiplataforma**: Windows, macOS, Linux\n",
    "\n",
    "## Instalación\n",
    "\n",
    "### Instalación en Windows"
   ]
  },
  {
   "cell_type": "code",
   "execution_count": null,
   "id": "512a26a9",
   "metadata": {
    "vscode": {
     "languageId": "shellscript"
    }
   },
   "outputs": [],
   "source": [
    "# Usando PowerShell (recomendado)\n",
    "winget install astral.uv\n",
    "\n",
    "# O usando curl\n",
    "curl -LsSf https://astral.sh/uv/install.sh | powershell -c -\n",
    "\n",
    "# Verificar instalación\n",
    "uv --version"
   ]
  },
  {
   "cell_type": "markdown",
   "id": "92e14f47",
   "metadata": {},
   "source": [
    "### Instalación en macOS"
   ]
  },
  {
   "cell_type": "code",
   "execution_count": null,
   "id": "804bfd4c",
   "metadata": {
    "vscode": {
     "languageId": "shellscript"
    }
   },
   "outputs": [],
   "source": [
    "# Usando Homebrew (recomendado)\n",
    "brew install uv\n",
    "\n",
    "# O usando curl\n",
    "curl -LsSf https://astral.sh/uv/install.sh | sh\n",
    "\n",
    "# Verificar instalación\n",
    "uv --version"
   ]
  },
  {
   "cell_type": "markdown",
   "id": "7774a66d",
   "metadata": {},
   "source": [
    "### Instalación en Linux"
   ]
  },
  {
   "cell_type": "code",
   "execution_count": null,
   "id": "464611fa",
   "metadata": {
    "vscode": {
     "languageId": "shellscript"
    }
   },
   "outputs": [],
   "source": [
    "# Usando curl\n",
    "curl -LsSf https://astral.sh/uv/install.sh | sh\n",
    "\n",
    "# O descargar manualmente\n",
    "wget https://github.com/astral-sh/uv/releases/latest/download/uv-x86_64-unknown-linux-gnu.tar.gz\n",
    "tar -xzf uv-x86_64-unknown-linux-gnu.tar.gz\n",
    "sudo mv uv /usr/local/bin/\n",
    "\n",
    "# Verificar instalación\n",
    "uv --version"
   ]
  },
  {
   "cell_type": "markdown",
   "id": "bca53680",
   "metadata": {},
   "source": [
    "### Instalación con Pip (método alternativo)"
   ]
  },
  {
   "cell_type": "code",
   "execution_count": null,
   "id": "4adcbcf3",
   "metadata": {
    "vscode": {
     "languageId": "shellscript"
    }
   },
   "outputs": [],
   "source": [
    "# Instalar con pip (si ya tienes Python)\n",
    "pip install uv\n",
    "\n",
    "# Actualizar uv\n",
    "pip install --upgrade uv"
   ]
  },
  {
   "cell_type": "markdown",
   "id": "6856ef5a",
   "metadata": {},
   "source": [
    "## Comandos Básicos\n",
    "\n",
    "### Verificar instalación y ayuda"
   ]
  },
  {
   "cell_type": "code",
   "execution_count": null,
   "id": "9d18b160",
   "metadata": {
    "vscode": {
     "languageId": "shellscript"
    }
   },
   "outputs": [],
   "source": [
    "# Ver versión\n",
    "uv --version\n",
    "\n",
    "# Ayuda general\n",
    "uv --help\n",
    "\n",
    "# Ayuda específica de un comando\n",
    "uv run --help\n",
    "uv pip --help"
   ]
  },
  {
   "cell_type": "markdown",
   "id": "f5eeb65f",
   "metadata": {},
   "source": [
    "### Comandos rápidos de referencia"
   ]
  },
  {
   "cell_type": "code",
   "execution_count": null,
   "id": "0afaf6d3",
   "metadata": {
    "vscode": {
     "languageId": "shellscript"
    }
   },
   "outputs": [],
   "source": [
    "# Crear y activar entorno\n",
    "uv venv\n",
    "source .venv/bin/activate  # Linux/macOS\n",
    ".venv\\Scripts\\activate     # Windows\n",
    "\n",
    "# Instalar paquetes\n",
    "uv add requests pandas numpy\n",
    "\n",
    "# Ejecutar script en entorno temporal\n",
    "uv run python script.py\n",
    "\n",
    "# Listar paquetes instalados\n",
    "uv pip list"
   ]
  },
  {
   "cell_type": "markdown",
   "id": "e24ae8e2",
   "metadata": {},
   "source": [
    "## Gestión de Entornos Virtuales\n",
    "\n",
    "### Crear entornos virtuales"
   ]
  },
  {
   "cell_type": "code",
   "execution_count": null,
   "id": "7a656ac2",
   "metadata": {
    "vscode": {
     "languageId": "shellscript"
    }
   },
   "outputs": [],
   "source": [
    "# Crear entorno en directorio .venv (por defecto)\n",
    "uv venv\n",
    "\n",
    "# Crear entorno con nombre específico\n",
    "uv venv mi-entorno\n",
    "\n",
    "# Crear entorno con Python específico\n",
    "uv venv --python 3.11\n",
    "uv venv --python 3.12\n",
    "\n",
    "# Forzar recreación de entorno existente\n",
    "uv venv --force\n",
    "\n",
    "# Crear entorno con permisos system (Linux/macOS)\n",
    "uv venv --system"
   ]
  },
  {
   "cell_type": "markdown",
   "id": "23b70917",
   "metadata": {},
   "source": [
    "### Activar y usar entornos"
   ]
  },
  {
   "cell_type": "code",
   "execution_count": null,
   "id": "6642be32",
   "metadata": {
    "vscode": {
     "languageId": "shellscript"
    }
   },
   "outputs": [],
   "source": [
    "# Activación en Linux/macOS\n",
    "source .venv/bin/activate\n",
    "\n",
    "# Activación en Windows PowerShell\n",
    ".venv\\Scripts\\Activate.ps1\n",
    "\n",
    "# Activación en Windows CMD\n",
    ".venv\\Scripts\\activate.bat\n",
    "\n",
    "# Verificar que estamos en el entorno correcto\n",
    "which python   # Linux/macOS\n",
    "where python   # Windows\n",
    "\n",
    "# Desactivar entorno\n",
    "deactivate"
   ]
  },
  {
   "cell_type": "markdown",
   "id": "62e38173",
   "metadata": {},
   "source": [
    "### Comandos útiles para entornos"
   ]
  },
  {
   "cell_type": "code",
   "execution_count": null,
   "id": "dd4f297d",
   "metadata": {
    "vscode": {
     "languageId": "shellscript"
    }
   },
   "outputs": [],
   "source": [
    "# Listar entornos disponibles (no nativo, alternativa)\n",
    "ls -la | grep venv  # Linux/macOS\n",
    "dir *venv*          # Windows\n",
    "\n",
    "# Eliminar entorno\n",
    "rm -rf .venv        # Linux/macOS\n",
    "rmdir /s .venv      # Windows\n",
    "\n",
    "# Información del entorno\n",
    "uv venv --help"
   ]
  },
  {
   "cell_type": "markdown",
   "id": "d15299e9",
   "metadata": {},
   "source": [
    "## Gestión de Dependencias\n",
    "\n",
    "### Instalación de paquetes"
   ]
  },
  {
   "cell_type": "code",
   "execution_count": null,
   "id": "5ef45349",
   "metadata": {
    "vscode": {
     "languageId": "shellscript"
    }
   },
   "outputs": [],
   "source": [
    "# Instalar paquetes individuales\n",
    "uv add requests\n",
    "uv add pandas numpy matplotlib\n",
    "\n",
    "# Instalar con versión específica\n",
    "uv add \"django==4.2\"\n",
    "uv add \"flask>=2.0,<3.0\"\n",
    "\n",
    "# Instalar desde requirements.txt\n",
    "uv pip install -r requirements.txt\n",
    "\n",
    "# Instalar con extras\n",
    "uv add \"requests[security]\"\n",
    "\n",
    "# Instalar en modo desarrollo (editable)\n",
    "uv add -e ./mi-paquete-local"
   ]
  },
  {
   "cell_type": "markdown",
   "id": "cba8e6c1",
   "metadata": {},
   "source": [
    "### Gestión de requirements.txt"
   ]
  },
  {
   "cell_type": "code",
   "execution_count": null,
   "id": "fa93ea69",
   "metadata": {
    "vscode": {
     "languageId": "shellscript"
    }
   },
   "outputs": [],
   "source": [
    "# Generar requirements.txt desde paquetes instalados\n",
    "uv pip freeze > requirements.txt\n",
    "\n",
    "# Instalar desde requirements.txt\n",
    "uv pip install -r requirements.txt\n",
    "\n",
    "# Actualizar requirements.txt\n",
    "uv pip install --upgrade -r requirements.txt\n",
    "\n",
    "# Requirements con hashes para seguridad\n",
    "uv pip compile requirements.in -o requirements.txt --generate-hashes"
   ]
  },
  {
   "cell_type": "markdown",
   "id": "a25c891d",
   "metadata": {},
   "source": [
    "### Actualización y eliminación"
   ]
  },
  {
   "cell_type": "code",
   "execution_count": null,
   "id": "2cb1c1ce",
   "metadata": {
    "vscode": {
     "languageId": "shellscript"
    }
   },
   "outputs": [],
   "source": [
    "# Actualizar paquetes\n",
    "uv pip install --upgrade pandas\n",
    "uv pip install --upgrade -r requirements.txt\n",
    "\n",
    "# Actualizar todos los paquetes\n",
    "uv pip list --outdated | awk '{print $1}' | xargs -n1 uv pip install --upgrade\n",
    "\n",
    "# Eliminar paquetes\n",
    "uv pip uninstall pandas\n",
    "uv pip uninstall -y package1 package2  # Sin confirmación\n",
    "\n",
    "# Listar paquetes instalados\n",
    "uv pip list\n",
    "uv pip list --outdated"
   ]
  },
  {
   "cell_type": "markdown",
   "id": "29799f38",
   "metadata": {},
   "source": [
    "### Dependencias de desarrollo"
   ]
  },
  {
   "cell_type": "code",
   "execution_count": null,
   "id": "60283c53",
   "metadata": {
    "vscode": {
     "languageId": "shellscript"
    }
   },
   "outputs": [],
   "source": [
    "# Instalar dependencias de desarrollo\n",
    "uv add --dev pytest black flake8\n",
    "\n",
    "# Instalar desde requirements-dev.txt\n",
    "uv pip install -r requirements-dev.txt\n",
    "\n",
    "# Separar dependencias normales y de desarrollo\n",
    "# requirements.txt\n",
    "uv add requests pandas\n",
    "\n",
    "# requirements-dev.txt\n",
    "uv add --dev pytest coverage"
   ]
  },
  {
   "cell_type": "markdown",
   "id": "ef21358c",
   "metadata": {},
   "source": [
    "## Integración con Pip\n",
    "\n",
    "### UV como reemplazo de pip"
   ]
  },
  {
   "cell_type": "code",
   "execution_count": null,
   "id": "bad1d2d9",
   "metadata": {
    "vscode": {
     "languageId": "shellscript"
    }
   },
   "outputs": [],
   "source": [
    "# Todos los comandos de pip funcionan con uv pip\n",
    "uv pip install package\n",
    "uv pip uninstall package\n",
    "uv pip list\n",
    "uv pip freeze\n",
    "uv pip show package\n",
    "\n",
    "# Instalar desde diferentes fuentes\n",
    "uv pip install git+https://github.com/user/repo.git\n",
    "uv pip install https://example.com/package.tar.gz\n",
    "\n",
    "# Instalar con constraints\n",
    "uv pip install -c constraints.txt package"
   ]
  },
  {
   "cell_type": "markdown",
   "id": "194ebfb2",
   "metadata": {},
   "source": [
    "### Compatibilidad con pip existente"
   ]
  },
  {
   "cell_type": "code",
   "execution_count": null,
   "id": "84d317dc",
   "metadata": {
    "vscode": {
     "languageId": "shellscript"
    }
   },
   "outputs": [],
   "source": [
    "# UV es completamente compatible con pip\n",
    "# Puedes usar archivos requirements.txt existentes\n",
    "uv pip install -r requirements.txt\n",
    "\n",
    "# Los entornos de UV son compatibles con pip tradicional\n",
    "# Puedes alternar entre uv pip y pip en el mismo entorno\n",
    "\n",
    "# Verificar compatibilidad\n",
    "python -m pip list  # pip tradicional\n",
    "uv pip list         # uv pip"
   ]
  },
  {
   "cell_type": "markdown",
   "id": "b6a00e84",
   "metadata": {},
   "source": [
    "### Ventajas de uv sobre pip tradicional"
   ]
  },
  {
   "cell_type": "code",
   "execution_count": null,
   "id": "bdb3370a",
   "metadata": {
    "vscode": {
     "languageId": "shellscript"
    }
   },
   "outputs": [],
   "source": [
    "# Comparación de velocidad\n",
    "time pip install pandas numpy matplotlib  # Lento\n",
    "time uv add pandas numpy matplotlib       # Rápido\n",
    "\n",
    "# Mejor manejo de resolución de dependencias\n",
    "uv pip install complex-package  # Mejor resolución de conflictos\n",
    "\n",
    "# Cache inteligente\n",
    "uv pip install package  # Usa cache automáticamente"
   ]
  },
  {
   "cell_type": "markdown",
   "id": "fce34c93",
   "metadata": {},
   "source": [
    "## Configuración y Personalización\n",
    "\n",
    "### Archivo de configuración uv.toml"
   ]
  },
  {
   "cell_type": "code",
   "execution_count": null,
   "id": "a43a67af",
   "metadata": {
    "vscode": {
     "languageId": "shellscript"
    }
   },
   "outputs": [],
   "source": [
    "# uv.toml en el directorio del proyecto o ~/.config/uv/uv.toml\n",
    "\n",
    "[install]\n",
    "# Directorio por defecto para entornos\n",
    "venv-dir = \".venv\"\n",
    "\n",
    "# Python version por defecto\n",
    "python = \"3.11\"\n",
    "\n",
    "# Configuración de cache\n",
    "[cache]\n",
    "dir = \"~/.cache/uv\"\n",
    "size = \"10GB\"\n",
    "\n",
    "# Configuración de red\n",
    "[network]\n",
    "retries = 3\n",
    "timeout = 30\n",
    "\n",
    "# Índices de paquetes personalizados\n",
    "[[index]]\n",
    "name = \"company-index\"\n",
    "url = \"https://pypi.company.com/simple\"\n",
    "priority = 1\n",
    "\n",
    "# Source específico para un paquete\n",
    "[[package-source]]\n",
    "name = \"private-package\"\n",
    "index = \"company-index\""
   ]
  },
  {
   "cell_type": "markdown",
   "id": "662736c4",
   "metadata": {},
   "source": [
    "### Variables de entorno"
   ]
  },
  {
   "cell_type": "code",
   "execution_count": null,
   "id": "a6209ea3",
   "metadata": {
    "vscode": {
     "languageId": "shellscript"
    }
   },
   "outputs": [],
   "source": [
    "# Configurar directorio de cache\n",
    "export UV_CACHE_DIR=\"$HOME/.uv_cache\"\n",
    "\n",
    "# Configurar timeout de red\n",
    "export UV_NETWORK_TIMEOUT=60\n",
    "\n",
    "# Configurar retries\n",
    "export UV_NETWORK_RETRIES=5\n",
    "\n",
    "# Configurar Python por defecto\n",
    "export UV_PYTHON=\"python3.11\"\n",
    "\n",
    "# Verbose logging\n",
    "export UV_LOG_LEVEL=\"debug\"\n",
    "\n",
    "# Deshabilitar cache\n",
    "export UV_CACHE_DISABLED=1"
   ]
  },
  {
   "cell_type": "markdown",
   "id": "e83be312",
   "metadata": {},
   "source": [
    "### Configuración del prompt"
   ]
  },
  {
   "cell_type": "code",
   "execution_count": null,
   "id": "5f59b54d",
   "metadata": {
    "vscode": {
     "languageId": "shellscript"
    }
   },
   "outputs": [],
   "source": [
    "# Personalizar prompt del entorno virtual\n",
    "export VIRTUAL_ENV_DISABLE_PROMPT=0  # Mostrar prompt automáticamente\n",
    "\n",
    "# En .venv/bin/activate (Linux/macOS) puedes modificar:\n",
    "# PS1=\"(mi-entorno) $PS1\"  # Personalizar prompt\n",
    "\n",
    "# Para PowerShell en Windows, modificar .venv/Scripts/Activate.ps1"
   ]
  },
  {
   "cell_type": "markdown",
   "id": "5a2eb602",
   "metadata": {},
   "source": [
    "## Workflows Comunes\n",
    "\n",
    "### Workflow de desarrollo típico"
   ]
  },
  {
   "cell_type": "code",
   "execution_count": null,
   "id": "505b3a4e",
   "metadata": {
    "vscode": {
     "languageId": "shellscript"
    }
   },
   "outputs": [],
   "source": [
    "# 1. Crear nuevo proyecto\n",
    "mkdir mi-proyecto\n",
    "cd mi-proyecto\n",
    "\n",
    "# 2. Crear entorno virtual\n",
    "uv venv\n",
    "\n",
    "# 3. Activar entorno\n",
    "source .venv/bin/activate  # Linux/macOS\n",
    ".venv\\Scripts\\activate     # Windows\n",
    "\n",
    "# 4. Instalar dependencias\n",
    "uv add requests pandas numpy\n",
    "uv add --dev pytest black\n",
    "\n",
    "# 5. Trabajar en el proyecto\n",
    "uv run python mi_script.py\n",
    "\n",
    "# 6. Congelar dependencias\n",
    "uv pip freeze > requirements.txt\n",
    "\n",
    "# 7. Desactivar entorno al terminar\n",
    "deactivate"
   ]
  },
  {
   "cell_type": "markdown",
   "id": "9431c432",
   "metadata": {},
   "source": [
    "### Workflow colaborativo"
   ]
  },
  {
   "cell_type": "code",
   "execution_count": null,
   "id": "ca543fcf",
   "metadata": {
    "vscode": {
     "languageId": "shellscript"
    }
   },
   "outputs": [],
   "source": [
    "# Clonar proyecto existente\n",
    "git clone https://github.com/usuario/proyecto.git\n",
    "cd proyecto\n",
    "\n",
    "# Crear entorno con misma versión de Python\n",
    "uv venv --python 3.11\n",
    "\n",
    "# Activar entorno\n",
    "source .venv/bin/activate\n",
    "\n",
    "# Instalar dependencias\n",
    "uv pip install -r requirements.txt\n",
    "\n",
    "# Instalar dependencias de desarrollo\n",
    "uv pip install -r requirements-dev.txt\n",
    "\n",
    "# Verificar que todo funciona\n",
    "uv run pytest"
   ]
  },
  {
   "cell_type": "markdown",
   "id": "c8298234",
   "metadata": {},
   "source": [
    "### Workflow para aplicaciones"
   ]
  },
  {
   "cell_type": "code",
   "execution_count": null,
   "id": "25c79aaa",
   "metadata": {
    "vscode": {
     "languageId": "shellscript"
    }
   },
   "outputs": [],
   "source": [
    "# Para deployment o entornos controlados\n",
    "uv venv --system  # Usar Python del sistema\n",
    "\n",
    "# Instalar solo lo necesario para producción\n",
    "uv pip install --no-deps -r requirements.txt\n",
    "\n",
    "# Verificar dependencias instaladas\n",
    "uv pip list\n",
    "\n",
    "# Crear ejecutable (usando pyinstaller u otra herramienta)\n",
    "uv add pyinstaller\n",
    "uv run pyinstaller --onefile mi_app.py"
   ]
  },
  {
   "cell_type": "markdown",
   "id": "c800e72a",
   "metadata": {},
   "source": [
    "### Workflow con múltiples entornos"
   ]
  },
  {
   "cell_type": "code",
   "execution_count": null,
   "id": "e6068a69",
   "metadata": {
    "vscode": {
     "languageId": "shellscript"
    }
   },
   "outputs": [],
   "source": [
    "# Desarrollar con diferentes versiones de Python\n",
    "uv venv --python 3.10 --name py310\n",
    "uv venv --python 3.11 --name py311\n",
    "\n",
    "# Activar entorno específico\n",
    "source py310/bin/activate  # Para Python 3.10\n",
    "source py311/bin/activate  # Para Python 3.11\n",
    "\n",
    "# Probar compatibilidad entre versiones\n",
    "uv run python -c \"import sys; print(sys.version)\""
   ]
  },
  {
   "cell_type": "markdown",
   "id": "4350359d",
   "metadata": {},
   "source": [
    "## Migración desde Otras Herramientas\n",
    "\n",
    "### Desde venv/virtualenv + pip"
   ]
  },
  {
   "cell_type": "code",
   "execution_count": null,
   "id": "ac1b7445",
   "metadata": {
    "vscode": {
     "languageId": "shellscript"
    }
   },
   "outputs": [],
   "source": [
    "# Proyecto existente con venv + pip\n",
    "deactivate  # Desactivar entorno antiguo\n",
    "rm -rf venv  # Eliminar entorno antiguo\n",
    "\n",
    "# Crear nuevo entorno con uv\n",
    "uv venv\n",
    "\n",
    "# Instalar dependencias desde requirements.txt\n",
    "uv pip install -r requirements.txt\n",
    "\n",
    "# Verificar que todo funciona\n",
    "source .venv/bin/activate\n",
    "python -c \"import requests; print('Funciona!')\""
   ]
  },
  {
   "cell_type": "markdown",
   "id": "c6fe41e6",
   "metadata": {},
   "source": [
    "### Desde Poetry"
   ]
  },
  {
   "cell_type": "code",
   "execution_count": null,
   "id": "ee1d2931",
   "metadata": {
    "vscode": {
     "languageId": "shellscript"
    }
   },
   "outputs": [],
   "source": [
    "# Exportar dependencias de poetry\n",
    "poetry export -f requirements.txt --output requirements.txt\n",
    "\n",
    "# Crear entorno con uv\n",
    "uv venv\n",
    "\n",
    "# Instalar dependencias\n",
    "uv pip install -r requirements.txt\n",
    "\n",
    "# Para desarrollo, exportar también dev dependencies\n",
    "poetry export --dev -f requirements.txt --output requirements-dev.txt\n",
    "uv pip install -r requirements-dev.txt"
   ]
  },
  {
   "cell_type": "markdown",
   "id": "27c8fa30",
   "metadata": {},
   "source": [
    "### Desde Conda/Mamba"
   ]
  },
  {
   "cell_type": "code",
   "execution_count": null,
   "id": "16cdeafa",
   "metadata": {
    "vscode": {
     "languageId": "shellscript"
    }
   },
   "outputs": [],
   "source": [
    "# Exportar environment de conda\n",
    "conda env export --from-history > environment.yml\n",
    "\n",
    "# Crear requirements.txt manualmente o usar:\n",
    "pip freeze > requirements.txt\n",
    "\n",
    "# Crear entorno con uv\n",
    "uv venv\n",
    "\n",
    "# Instalar dependencias\n",
    "uv pip install -r requirements.txt"
   ]
  },
  {
   "cell_type": "markdown",
   "id": "fd486833",
   "metadata": {},
   "source": [
    "### Desde Pipenv"
   ]
  },
  {
   "cell_type": "code",
   "execution_count": null,
   "id": "7c3f5f9f",
   "metadata": {
    "vscode": {
     "languageId": "shellscript"
    }
   },
   "outputs": [],
   "source": [
    "# Exportar dependencias de pipenv\n",
    "pipenv requirements > requirements.txt\n",
    "pipenv requirements --dev > requirements-dev.txt\n",
    "\n",
    "# Crear entorno con uv\n",
    "uv venv\n",
    "\n",
    "# Instalar dependencias\n",
    "uv pip install -r requirements.txt\n",
    "uv pip install -r requirements-dev.txt"
   ]
  },
  {
   "cell_type": "markdown",
   "id": "d7c3c869",
   "metadata": {},
   "source": [
    "## Solución de Problemas\n",
    "\n",
    "### Problemas comunes y soluciones"
   ]
  },
  {
   "cell_type": "code",
   "execution_count": null,
   "id": "f3d49c40",
   "metadata": {
    "vscode": {
     "languageId": "shellscript"
    }
   },
   "outputs": [],
   "source": [
    "# Error: UV no encontrado\n",
    "# Solución: Verificar instalación y PATH\n",
    "echo $PATH  # Linux/macOS\n",
    "$env:PATH   # Windows\n",
    "\n",
    "# Error: Versión de Python no encontrada\n",
    "uv venv --python 3.11  # Especificar versión exacta\n",
    "\n",
    "# Error: Permisos denegados\n",
    "sudo chmod +x /usr/local/bin/uv  # Linux/macOS\n",
    "\n",
    "# Limpiar cache corrupto\n",
    "uv cache clean\n",
    "\n",
    "# Forzar reinstalación\n",
    "uv pip install --force-reinstall package\n",
    "\n",
    "# Ver información de debug\n",
    "uv --verbose pip install package"
   ]
  },
  {
   "cell_type": "markdown",
   "id": "7d24c53b",
   "metadata": {},
   "source": [
    "### Comandos de diagnóstico"
   ]
  },
  {
   "cell_type": "code",
   "execution_count": null,
   "id": "41e01f42",
   "metadata": {
    "vscode": {
     "languageId": "shellscript"
    }
   },
   "outputs": [],
   "source": [
    "# Ver información del sistema\n",
    "uv --version\n",
    "uv debug info\n",
    "\n",
    "# Ver información de cache\n",
    "uv cache dir\n",
    "uv cache size\n",
    "uv cache list\n",
    "\n",
    "# Limpiar cache\n",
    "uv cache clean\n",
    "uv cache prune  # Eliminar paquetes no usados\n",
    "\n",
    "# Ver configuración cargada\n",
    "uv config show"
   ]
  },
  {
   "cell_type": "markdown",
   "id": "2f94ee39",
   "metadata": {},
   "source": [
    "### Resolución de conflictos"
   ]
  },
  {
   "cell_type": "code",
   "execution_count": null,
   "id": "73e01b0e",
   "metadata": {
    "vscode": {
     "languageId": "shellscript"
    }
   },
   "outputs": [],
   "source": [
    "# Cuando hay conflictos de dependencias\n",
    "uv pip install --resolution highest package  # Forzar versión más alta\n",
    "uv pip install --resolution lowest package   # Forzar versión más baja\n",
    "\n",
    "# Usar constraints para resolver conflictos\n",
    "echo \"package==1.2.3\" > constraints.txt\n",
    "uv pip install -c constraints.txt other-package\n",
    "\n",
    "# Ver árbol de dependencias\n",
    "uv pip show --tree package"
   ]
  },
  {
   "cell_type": "markdown",
   "id": "0df8c3a8",
   "metadata": {},
   "source": [
    "### Recuperación de entornos"
   ]
  },
  {
   "cell_type": "code",
   "execution_count": null,
   "id": "e8fec042",
   "metadata": {
    "vscode": {
     "languageId": "shellscript"
    }
   },
   "outputs": [],
   "source": [
    "# Si el entorno se corrompe\n",
    "deactivate\n",
    "rm -rf .venv\n",
    "uv venv\n",
    "uv pip install -r requirements.txt\n",
    "\n",
    "# Recuperar desde backup de requirements.txt\n",
    "# Siempre mantener requirements.txt actualizado\n",
    "\n",
    "# Verificar integridad del entorno\n",
    "uv pip check"
   ]
  },
  {
   "cell_type": "markdown",
   "id": "8edd48d3",
   "metadata": {},
   "source": [
    "## Consejos y Mejores Prácticas\n",
    "\n",
    "### Flujo de trabajo recomendado\n",
    "\n",
    "1. **Siempre usar entornos virtuales**: `uv venv` para cada proyecto\n",
    "2. **Mantener requirements.txt actualizado**: `uv pip freeze > requirements.txt`\n",
    "3. **Usar constraints para versiones críticas**\n",
    "4. **Separar dependencias de desarrollo y producción**\n",
    "5. **Versionar el requirements.txt** en control de versiones\n",
    "\n",
    "### Performance tips"
   ]
  },
  {
   "cell_type": "code",
   "execution_count": null,
   "id": "fbf5be37",
   "metadata": {
    "vscode": {
     "languageId": "shellscript"
    }
   },
   "outputs": [],
   "source": [
    "# Usar cache eficientemente\n",
    "uv pip install package  # Automáticamente usa cache\n",
    "\n",
    "# Para CI/CD, pre-cachear dependencias\n",
    "uv cache dir  # Ver directorio de cache\n",
    "uv cache list  # Ver paquetes en cache\n",
    "\n",
    "# Limpiar cache regularmente\n",
    "uv cache prune  # Eliminar paquetes no usados"
   ]
  },
  {
   "cell_type": "markdown",
   "id": "ba63736e",
   "metadata": {},
   "source": [
    "### Integración con IDEs\n",
    "\n",
    "**VS Code**: Se detecta automáticamente el entorno `.venv/`\n",
    "\n",
    "**PyCharm**:\n",
    "\n",
    "1. File → Settings → Project → Python Interpreter\n",
    "2. Add Interpreter → Add Local Interpreter\n",
    "3. Seleccionar `.venv/bin/python` (Linux/macOS) o `.venv\\Scripts\\python.exe` (Windows)\n",
    "\n",
    "**Jupyter Notebooks**:"
   ]
  },
  {
   "cell_type": "code",
   "execution_count": null,
   "id": "b65d33ed",
   "metadata": {
    "vscode": {
     "languageId": "shellscript"
    }
   },
   "outputs": [],
   "source": [
    "uv add ipykernel\n",
    "\n",
    "uv run python -m ipykernel install --user --name=mi-entorno"
   ]
  },
  {
   "cell_type": "markdown",
   "id": "9c1e40ba",
   "metadata": {},
   "source": [
    "### Scripts de automatización"
   ]
  },
  {
   "cell_type": "code",
   "execution_count": null,
   "id": "192a1120",
   "metadata": {
    "vscode": {
     "languageId": "shellscript"
    }
   },
   "outputs": [],
   "source": [
    "#!/bin/bash\n",
    "# setup.sh - Script de setup automático\n",
    "\n",
    "set -e  # Salir en error\n",
    "\n",
    "echo \"Creando entorno virtual...\"\n",
    "uv venv\n",
    "\n",
    "echo \"Activando entorno...\"\n",
    "source .venv/bin/activate\n",
    "\n",
    "echo \"Instalando dependencias...\"\n",
    "uv pip install -r requirements.txt\n",
    "\n",
    "if [ -f \"requirements-dev.txt\" ]; then\n",
    "    echo \"Instalando dependencias de desarrollo...\"\n",
    "    uv pip install -r requirements-dev.txt\n",
    "fi\n",
    "\n",
    "echo \"Setup completado!\""
   ]
  },
  {
   "cell_type": "markdown",
   "id": "5c5396cc",
   "metadata": {},
   "source": [
    "Este manual cubre todo lo necesario para empezar con UV y gestionar eficientemente entornos Python. La velocidad y simplicidad de UV lo hacen ideal para desarrollo moderno de Python.\n"
   ]
  }
 ],
 "metadata": {
  "language_info": {
   "name": "python"
  }
 },
 "nbformat": 4,
 "nbformat_minor": 5
}
